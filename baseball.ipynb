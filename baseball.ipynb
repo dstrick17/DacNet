{
 "cells": [
  {
   "cell_type": "code",
   "execution_count": 3,
   "metadata": {},
   "outputs": [
    {
     "name": "stdout",
     "output_type": "stream",
     "text": [
      "Defaulting to user installation because normal site-packages is not writeable\n",
      "Collecting pybaseball\n",
      "  Using cached pybaseball-2.2.7-py3-none-any.whl.metadata (11 kB)\n",
      "Requirement already satisfied: numpy>=1.13.0 in c:\\users\\danst\\appdata\\local\\packages\\pythonsoftwarefoundation.python.3.12_qbz5n2kfra8p0\\localcache\\local-packages\\python312\\site-packages (from pybaseball) (2.1.1)\n",
      "Requirement already satisfied: pandas>=1.0.3 in c:\\users\\danst\\appdata\\local\\packages\\pythonsoftwarefoundation.python.3.12_qbz5n2kfra8p0\\localcache\\local-packages\\python312\\site-packages (from pybaseball) (2.2.3)\n",
      "Requirement already satisfied: beautifulsoup4>=4.4.0 in c:\\users\\danst\\appdata\\local\\packages\\pythonsoftwarefoundation.python.3.12_qbz5n2kfra8p0\\localcache\\local-packages\\python312\\site-packages (from pybaseball) (4.12.3)\n",
      "Requirement already satisfied: requests>=2.18.1 in c:\\users\\danst\\appdata\\local\\packages\\pythonsoftwarefoundation.python.3.12_qbz5n2kfra8p0\\localcache\\local-packages\\python312\\site-packages (from pybaseball) (2.32.3)\n",
      "Collecting lxml>=4.2.1 (from pybaseball)\n",
      "  Downloading lxml-5.3.1-cp312-cp312-win_amd64.whl.metadata (3.8 kB)\n",
      "Collecting pyarrow>=1.0.1 (from pybaseball)\n",
      "  Using cached pyarrow-19.0.0-cp312-cp312-win_amd64.whl.metadata (3.4 kB)\n",
      "Collecting pygithub>=1.51 (from pybaseball)\n",
      "  Downloading PyGithub-2.6.0-py3-none-any.whl.metadata (3.9 kB)\n",
      "Requirement already satisfied: scipy>=1.4.0 in c:\\users\\danst\\appdata\\local\\packages\\pythonsoftwarefoundation.python.3.12_qbz5n2kfra8p0\\localcache\\local-packages\\python312\\site-packages (from pybaseball) (1.14.1)\n",
      "Requirement already satisfied: matplotlib>=2.0.0 in c:\\users\\danst\\appdata\\local\\packages\\pythonsoftwarefoundation.python.3.12_qbz5n2kfra8p0\\localcache\\local-packages\\python312\\site-packages (from pybaseball) (3.9.2)\n",
      "Requirement already satisfied: tqdm>=4.50.0 in c:\\users\\danst\\appdata\\local\\packages\\pythonsoftwarefoundation.python.3.12_qbz5n2kfra8p0\\localcache\\local-packages\\python312\\site-packages (from pybaseball) (4.66.5)\n",
      "Requirement already satisfied: attrs>=20.3.0 in c:\\users\\danst\\appdata\\local\\packages\\pythonsoftwarefoundation.python.3.12_qbz5n2kfra8p0\\localcache\\local-packages\\python312\\site-packages (from pybaseball) (24.2.0)\n",
      "Requirement already satisfied: soupsieve>1.2 in c:\\users\\danst\\appdata\\local\\packages\\pythonsoftwarefoundation.python.3.12_qbz5n2kfra8p0\\localcache\\local-packages\\python312\\site-packages (from beautifulsoup4>=4.4.0->pybaseball) (2.6)\n",
      "Requirement already satisfied: contourpy>=1.0.1 in c:\\users\\danst\\appdata\\local\\packages\\pythonsoftwarefoundation.python.3.12_qbz5n2kfra8p0\\localcache\\local-packages\\python312\\site-packages (from matplotlib>=2.0.0->pybaseball) (1.3.0)\n",
      "Requirement already satisfied: cycler>=0.10 in c:\\users\\danst\\appdata\\local\\packages\\pythonsoftwarefoundation.python.3.12_qbz5n2kfra8p0\\localcache\\local-packages\\python312\\site-packages (from matplotlib>=2.0.0->pybaseball) (0.12.1)\n",
      "Requirement already satisfied: fonttools>=4.22.0 in c:\\users\\danst\\appdata\\local\\packages\\pythonsoftwarefoundation.python.3.12_qbz5n2kfra8p0\\localcache\\local-packages\\python312\\site-packages (from matplotlib>=2.0.0->pybaseball) (4.54.1)\n",
      "Requirement already satisfied: kiwisolver>=1.3.1 in c:\\users\\danst\\appdata\\local\\packages\\pythonsoftwarefoundation.python.3.12_qbz5n2kfra8p0\\localcache\\local-packages\\python312\\site-packages (from matplotlib>=2.0.0->pybaseball) (1.4.7)\n",
      "Requirement already satisfied: packaging>=20.0 in c:\\users\\danst\\appdata\\local\\packages\\pythonsoftwarefoundation.python.3.12_qbz5n2kfra8p0\\localcache\\local-packages\\python312\\site-packages (from matplotlib>=2.0.0->pybaseball) (24.1)\n",
      "Requirement already satisfied: pillow>=8 in c:\\users\\danst\\appdata\\local\\packages\\pythonsoftwarefoundation.python.3.12_qbz5n2kfra8p0\\localcache\\local-packages\\python312\\site-packages (from matplotlib>=2.0.0->pybaseball) (10.4.0)\n",
      "Requirement already satisfied: pyparsing>=2.3.1 in c:\\users\\danst\\appdata\\local\\packages\\pythonsoftwarefoundation.python.3.12_qbz5n2kfra8p0\\localcache\\local-packages\\python312\\site-packages (from matplotlib>=2.0.0->pybaseball) (3.1.4)\n",
      "Requirement already satisfied: python-dateutil>=2.7 in c:\\users\\danst\\appdata\\local\\packages\\pythonsoftwarefoundation.python.3.12_qbz5n2kfra8p0\\localcache\\local-packages\\python312\\site-packages (from matplotlib>=2.0.0->pybaseball) (2.9.0.post0)\n",
      "Requirement already satisfied: pytz>=2020.1 in c:\\users\\danst\\appdata\\local\\packages\\pythonsoftwarefoundation.python.3.12_qbz5n2kfra8p0\\localcache\\local-packages\\python312\\site-packages (from pandas>=1.0.3->pybaseball) (2024.2)\n",
      "Requirement already satisfied: tzdata>=2022.7 in c:\\users\\danst\\appdata\\local\\packages\\pythonsoftwarefoundation.python.3.12_qbz5n2kfra8p0\\localcache\\local-packages\\python312\\site-packages (from pandas>=1.0.3->pybaseball) (2024.2)\n",
      "Collecting pynacl>=1.4.0 (from pygithub>=1.51->pybaseball)\n",
      "  Using cached PyNaCl-1.5.0-cp36-abi3-win_amd64.whl.metadata (8.7 kB)\n",
      "Collecting pyjwt>=2.4.0 (from pyjwt[crypto]>=2.4.0->pygithub>=1.51->pybaseball)\n",
      "  Using cached PyJWT-2.10.1-py3-none-any.whl.metadata (4.0 kB)\n",
      "Requirement already satisfied: typing-extensions>=4.0.0 in c:\\users\\danst\\appdata\\local\\packages\\pythonsoftwarefoundation.python.3.12_qbz5n2kfra8p0\\localcache\\local-packages\\python312\\site-packages (from pygithub>=1.51->pybaseball) (4.12.2)\n",
      "Requirement already satisfied: urllib3>=1.26.0 in c:\\users\\danst\\appdata\\local\\packages\\pythonsoftwarefoundation.python.3.12_qbz5n2kfra8p0\\localcache\\local-packages\\python312\\site-packages (from pygithub>=1.51->pybaseball) (2.2.3)\n",
      "Collecting Deprecated (from pygithub>=1.51->pybaseball)\n",
      "  Using cached Deprecated-1.2.18-py2.py3-none-any.whl.metadata (5.7 kB)\n",
      "Requirement already satisfied: charset-normalizer<4,>=2 in c:\\users\\danst\\appdata\\local\\packages\\pythonsoftwarefoundation.python.3.12_qbz5n2kfra8p0\\localcache\\local-packages\\python312\\site-packages (from requests>=2.18.1->pybaseball) (3.3.2)\n",
      "Requirement already satisfied: idna<4,>=2.5 in c:\\users\\danst\\appdata\\local\\packages\\pythonsoftwarefoundation.python.3.12_qbz5n2kfra8p0\\localcache\\local-packages\\python312\\site-packages (from requests>=2.18.1->pybaseball) (3.10)\n",
      "Requirement already satisfied: certifi>=2017.4.17 in c:\\users\\danst\\appdata\\local\\packages\\pythonsoftwarefoundation.python.3.12_qbz5n2kfra8p0\\localcache\\local-packages\\python312\\site-packages (from requests>=2.18.1->pybaseball) (2024.8.30)\n",
      "Requirement already satisfied: colorama in c:\\users\\danst\\appdata\\local\\packages\\pythonsoftwarefoundation.python.3.12_qbz5n2kfra8p0\\localcache\\local-packages\\python312\\site-packages (from tqdm>=4.50.0->pybaseball) (0.4.6)\n",
      "Collecting cryptography>=3.4.0 (from pyjwt[crypto]>=2.4.0->pygithub>=1.51->pybaseball)\n",
      "  Downloading cryptography-44.0.1-cp39-abi3-win_amd64.whl.metadata (5.7 kB)\n",
      "Collecting cffi>=1.4.1 (from pynacl>=1.4.0->pygithub>=1.51->pybaseball)\n",
      "  Using cached cffi-1.17.1-cp312-cp312-win_amd64.whl.metadata (1.6 kB)\n",
      "Requirement already satisfied: six>=1.5 in c:\\users\\danst\\appdata\\local\\packages\\pythonsoftwarefoundation.python.3.12_qbz5n2kfra8p0\\localcache\\local-packages\\python312\\site-packages (from python-dateutil>=2.7->matplotlib>=2.0.0->pybaseball) (1.16.0)\n",
      "Requirement already satisfied: wrapt<2,>=1.10 in c:\\users\\danst\\appdata\\local\\packages\\pythonsoftwarefoundation.python.3.12_qbz5n2kfra8p0\\localcache\\local-packages\\python312\\site-packages (from Deprecated->pygithub>=1.51->pybaseball) (1.16.0)\n",
      "Collecting pycparser (from cffi>=1.4.1->pynacl>=1.4.0->pygithub>=1.51->pybaseball)\n",
      "  Using cached pycparser-2.22-py3-none-any.whl.metadata (943 bytes)\n",
      "Using cached pybaseball-2.2.7-py3-none-any.whl (426 kB)\n",
      "Downloading lxml-5.3.1-cp312-cp312-win_amd64.whl (3.8 MB)\n",
      "   ---------------------------------------- 0.0/3.8 MB ? eta -:--:--\n",
      "   -- ------------------------------------- 0.3/3.8 MB ? eta -:--:--\n",
      "   -------------------------------- ------- 3.1/3.8 MB 14.2 MB/s eta 0:00:01\n",
      "   ---------------------------------------- 3.8/3.8 MB 11.4 MB/s eta 0:00:00\n",
      "Using cached pyarrow-19.0.0-cp312-cp312-win_amd64.whl (25.2 MB)\n",
      "Downloading PyGithub-2.6.0-py3-none-any.whl (409 kB)\n",
      "Using cached PyJWT-2.10.1-py3-none-any.whl (22 kB)\n",
      "Using cached PyNaCl-1.5.0-cp36-abi3-win_amd64.whl (212 kB)\n",
      "Using cached Deprecated-1.2.18-py2.py3-none-any.whl (10.0 kB)\n",
      "Using cached cffi-1.17.1-cp312-cp312-win_amd64.whl (181 kB)\n",
      "Downloading cryptography-44.0.1-cp39-abi3-win_amd64.whl (3.2 MB)\n",
      "   ---------------------------------------- 0.0/3.2 MB ? eta -:--:--\n",
      "   ---------------------------------------- 3.2/3.2 MB 18.8 MB/s eta 0:00:00\n",
      "Using cached pycparser-2.22-py3-none-any.whl (117 kB)\n",
      "Installing collected packages: pyjwt, pycparser, pyarrow, lxml, Deprecated, cffi, pynacl, cryptography, pygithub, pybaseball\n",
      "Successfully installed Deprecated-1.2.18 cffi-1.17.1 cryptography-44.0.1 lxml-5.3.1 pyarrow-19.0.0 pybaseball-2.2.7 pycparser-2.22 pygithub-2.6.0 pyjwt-2.10.1 pynacl-1.5.0\n",
      "Note: you may need to restart the kernel to use updated packages.\n"
     ]
    },
    {
     "name": "stderr",
     "output_type": "stream",
     "text": [
      "\n",
      "[notice] A new release of pip is available: 24.3.1 -> 25.0.1\n",
      "[notice] To update, run: C:\\Users\\danst\\AppData\\Local\\Microsoft\\WindowsApps\\PythonSoftwareFoundation.Python.3.12_qbz5n2kfra8p0\\python.exe -m pip install --upgrade pip\n"
     ]
    }
   ],
   "source": [
    "pip install pybaseball\n"
   ]
  },
  {
   "cell_type": "code",
   "execution_count": 4,
   "metadata": {},
   "outputs": [
    {
     "ename": "TypeError",
     "evalue": "list indices must be integers or slices, not str",
     "output_type": "error",
     "traceback": [
      "\u001b[1;31m---------------------------------------------------------------------------\u001b[0m",
      "\u001b[1;31mTypeError\u001b[0m                                 Traceback (most recent call last)",
      "Cell \u001b[1;32mIn[4], line 18\u001b[0m\n\u001b[0;32m     15\u001b[0m standings_2024 \u001b[38;5;241m=\u001b[39m standings(\u001b[38;5;241m2024\u001b[39m)\n\u001b[0;32m     17\u001b[0m \u001b[38;5;66;03m# Calculate win percentage for each team\u001b[39;00m\n\u001b[1;32m---> 18\u001b[0m standings_2024[\u001b[38;5;124m'\u001b[39m\u001b[38;5;124mWin_Percentage\u001b[39m\u001b[38;5;124m'\u001b[39m] \u001b[38;5;241m=\u001b[39m \u001b[43mstandings_2024\u001b[49m\u001b[43m[\u001b[49m\u001b[38;5;124;43m'\u001b[39;49m\u001b[38;5;124;43mW\u001b[39;49m\u001b[38;5;124;43m'\u001b[39;49m\u001b[43m]\u001b[49m \u001b[38;5;241m/\u001b[39m (standings_2024[\u001b[38;5;124m'\u001b[39m\u001b[38;5;124mW\u001b[39m\u001b[38;5;124m'\u001b[39m] \u001b[38;5;241m+\u001b[39m standings_2024[\u001b[38;5;124m'\u001b[39m\u001b[38;5;124mL\u001b[39m\u001b[38;5;124m'\u001b[39m])\n\u001b[0;32m     20\u001b[0m \u001b[38;5;66;03m# Merge the two DataFrames on the 'Team' column\u001b[39;00m\n\u001b[0;32m     21\u001b[0m comparison_df \u001b[38;5;241m=\u001b[39m pd\u001b[38;5;241m.\u001b[39mmerge(\n\u001b[0;32m     22\u001b[0m     batting_stats[[\u001b[38;5;124m'\u001b[39m\u001b[38;5;124mTeam\u001b[39m\u001b[38;5;124m'\u001b[39m, \u001b[38;5;124m'\u001b[39m\u001b[38;5;124mOBP\u001b[39m\u001b[38;5;124m'\u001b[39m]],\n\u001b[0;32m     23\u001b[0m     standings_2024[[\u001b[38;5;124m'\u001b[39m\u001b[38;5;124mTeam\u001b[39m\u001b[38;5;124m'\u001b[39m, \u001b[38;5;124m'\u001b[39m\u001b[38;5;124mWin_Percentage\u001b[39m\u001b[38;5;124m'\u001b[39m]],\n\u001b[0;32m     24\u001b[0m     on\u001b[38;5;241m=\u001b[39m\u001b[38;5;124m'\u001b[39m\u001b[38;5;124mTeam\u001b[39m\u001b[38;5;124m'\u001b[39m\n\u001b[0;32m     25\u001b[0m )\n",
      "\u001b[1;31mTypeError\u001b[0m: list indices must be integers or slices, not str"
     ]
    }
   ],
   "source": [
    "import pandas as pd\n",
    "from pybaseball import team_batting, standings\n",
    "\n",
    "# Fetch team batting stats for the 2024 season\n",
    "batting_stats = team_batting(2024)\n",
    "\n",
    "# Calculate OBP for each team\n",
    "batting_stats['OBP'] = (\n",
    "    batting_stats['H'] + batting_stats['BB'] + batting_stats['HBP']\n",
    ") / (\n",
    "    batting_stats['AB'] + batting_stats['BB'] + batting_stats['HBP'] + batting_stats['SF']\n",
    ")\n",
    "\n",
    "# Fetch standings for the 2024 season\n",
    "standings_2024 = standings(2024)\n",
    "\n",
    "# Calculate win percentage for each team\n",
    "standings_2024['Win_Percentage'] = standings_2024['W'] / (standings_2024['W'] + standings_2024['L'])\n",
    "\n",
    "# Merge the two DataFrames on the 'Team' column\n",
    "comparison_df = pd.merge(\n",
    "    batting_stats[['Team', 'OBP']],\n",
    "    standings_2024[['Team', 'Win_Percentage']],\n",
    "    on='Team'\n",
    ")\n",
    "\n",
    "# Display the comparison table\n",
    "print(comparison_df)\n",
    "\n",
    "\n"
   ]
  }
 ],
 "metadata": {
  "kernelspec": {
   "display_name": "Python 3",
   "language": "python",
   "name": "python3"
  },
  "language_info": {
   "codemirror_mode": {
    "name": "ipython",
    "version": 3
   },
   "file_extension": ".py",
   "mimetype": "text/x-python",
   "name": "python",
   "nbconvert_exporter": "python",
   "pygments_lexer": "ipython3",
   "version": "3.12.9"
  }
 },
 "nbformat": 4,
 "nbformat_minor": 2
}
