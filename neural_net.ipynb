{
 "cells": [
  {
   "cell_type": "markdown",
   "metadata": {},
   "source": [
    "# NIH Dataset EDA"
   ]
  },
  {
   "cell_type": "code",
   "execution_count": null,
   "metadata": {},
   "outputs": [],
   "source": [
    "# pip install -r requirements.txt"
   ]
  },
  {
   "cell_type": "code",
   "execution_count": 2,
   "metadata": {},
   "outputs": [],
   "source": [
    "import os\n",
    "import pandas as pd\n",
    "import numpy as np\n",
    "import matplotlib\n",
    "matplotlib.use('Agg')  # For SCC compatibility (no display)\n",
    "import matplotlib.pyplot as plt\n",
    "import seaborn as sns\n",
    "\n",
    "# Deep Learning Libraries\n",
    "import torch\n",
    "import torch.nn as nn\n",
    "import torch.optim as optim\n",
    "from torch.utils.data import DataLoader, Dataset\n",
    "from torchvision import models, transforms\n",
    "import torchvision.datasets as datasets\n",
    "\n",
    "# Evaluation Metrics\n",
    "from sklearn.metrics import f1_score, accuracy_score, precision_score, recall_score, roc_auc_score\n",
    "\n",
    "# For reproducibility\n",
    "import random\n"
   ]
  },
  {
   "cell_type": "code",
   "execution_count": 3,
   "metadata": {},
   "outputs": [
    {
     "name": "stdout",
     "output_type": "stream",
     "text": [
      "Bounding Box Data:--------------------------------------------------------------\n",
      "        Image Index Finding Label     Bbox [x           y           w          h]  Unnamed: 6  Unnamed: 7  Unnamed: 8\n",
      "0  00013118_008.png   Atelectasis  225.084746  547.019217   86.779661   79.186441         NaN         NaN         NaN\n",
      "1  00014716_007.png   Atelectasis  686.101695  131.543498  185.491525  313.491525         NaN         NaN         NaN\n",
      "2  00029817_009.png   Atelectasis  221.830508  317.053115  155.118644  216.949153         NaN         NaN         NaN\n",
      "3  00014687_001.png   Atelectasis  726.237288  494.951420  141.016949   55.322034         NaN         NaN         NaN\n",
      "4  00017877_001.png   Atelectasis  660.067797  569.780787  200.677966   78.101695         NaN         NaN         NaN\n",
      "\n",
      "Image Metadata:---------------------------------------------------------------\n",
      "        Image Index          Finding Labels  Follow-up #  Patient ID  Patient Age Patient Gender View Position  OriginalImage[Width  Height]  OriginalImagePixelSpacing[x     y]  Unnamed: 11\n",
      "0  00000001_000.png            Cardiomegaly            0           1           58              M            PA                 2682     2749                        0.143  0.143          NaN\n",
      "1  00000001_001.png  Cardiomegaly|Emphysema            1           1           58              M            PA                 2894     2729                        0.143  0.143          NaN\n",
      "2  00000001_002.png   Cardiomegaly|Effusion            2           1           58              M            PA                 2500     2048                        0.168  0.168          NaN\n",
      "3  00000002_000.png              No Finding            0           2           81              M            PA                 2500     2048                        0.171  0.171          NaN\n",
      "4  00000003_000.png                  Hernia            0           3           81              F            PA                 2582     2991                        0.143  0.143          NaN\n"
     ]
    }
   ],
   "source": [
    "# Set the path where dataset CSV files are stored on the cluster\n",
    "data_path = \"/projectnb/dl4ds/projects/dca_project/nih_data\"\n",
    "\n",
    "pd.set_option('display.max_columns', None)\n",
    "pd.set_option('display.width', 1000)\n",
    "\n",
    "# Load the CSV files\n",
    "bbox_df = pd.read_csv(os.path.join(data_path, \"BBox_List_2017.csv\"))\n",
    "data_entry_df = pd.read_csv(os.path.join(data_path, \"Data_Entry_2017.csv\"))\n",
    "\n",
    "\n",
    "\n",
    "# Display basic info\n",
    "print(\"Bounding Box Data:--------------------------------------------------------------\")\n",
    "print(bbox_df.head())\n",
    "print(\"\\nImage Metadata:---------------------------------------------------------------\")\n",
    "print(data_entry_df.head())\n",
    "\n"
   ]
  },
  {
   "cell_type": "code",
   "execution_count": 1,
   "metadata": {},
   "outputs": [
    {
     "ename": "NameError",
     "evalue": "name 'os' is not defined",
     "output_type": "error",
     "traceback": [
      "\u001b[0;31m---------------------------------------------------------------------------\u001b[0m",
      "\u001b[0;31mNameError\u001b[0m                                 Traceback (most recent call last)",
      "\u001b[0;32m<ipython-input-1-b0413eb5b4f3>\u001b[0m in \u001b[0;36m<module>\u001b[0;34m\u001b[0m\n\u001b[1;32m      3\u001b[0m \u001b[0;34m\u001b[0m\u001b[0m\n\u001b[1;32m      4\u001b[0m \u001b[0;31m# Set image path\u001b[0m\u001b[0;34m\u001b[0m\u001b[0;34m\u001b[0m\u001b[0;34m\u001b[0m\u001b[0m\n\u001b[0;32m----> 5\u001b[0;31m \u001b[0mimages_path\u001b[0m \u001b[0;34m=\u001b[0m \u001b[0mos\u001b[0m\u001b[0;34m.\u001b[0m\u001b[0mpath\u001b[0m\u001b[0;34m.\u001b[0m\u001b[0mjoin\u001b[0m\u001b[0;34m(\u001b[0m\u001b[0mdata_path\u001b[0m\u001b[0;34m,\u001b[0m \u001b[0;34m\"images_001/images\"\u001b[0m\u001b[0;34m)\u001b[0m\u001b[0;34m\u001b[0m\u001b[0;34m\u001b[0m\u001b[0m\n\u001b[0m\u001b[1;32m      6\u001b[0m \u001b[0;34m\u001b[0m\u001b[0m\n\u001b[1;32m      7\u001b[0m \u001b[0;31m# Get first 5 images\u001b[0m\u001b[0;34m\u001b[0m\u001b[0;34m\u001b[0m\u001b[0;34m\u001b[0m\u001b[0m\n",
      "\u001b[0;31mNameError\u001b[0m: name 'os' is not defined"
     ]
    }
   ],
   "source": [
    "from PIL import Image\n",
    "from IPython.display import display  # Import display function\n",
    "\n",
    "# Set image path\n",
    "images_path = os.path.join(data_path, \"images_001/images\")\n",
    "\n",
    "# Get first 5 images\n",
    "image_filenames = os.listdir(images_path)[:1]\n",
    "print(\"Images found:\", image_filenames) \n",
    "\n",
    "# Display images directly in Jupyter Notebook\n",
    "for img_filename in image_filenames:\n",
    "    img_path = os.path.join(images_path, img_filename)\n",
    "    img = Image.open(img_path)  \n",
    "    display(img) \n"
   ]
  },
  {
   "cell_type": "markdown",
   "metadata": {},
   "source": [
    "# Code for similar project: https://github.com/thibaultwillmann/CheXNet-Pytorch/blob/master/CheXnet.ipynb"
   ]
  },
  {
   "cell_type": "markdown",
   "metadata": {},
   "source": []
  }
 ],
 "metadata": {
  "kernelspec": {
   "display_name": "venv",
   "language": "python",
   "name": "python3"
  },
  "language_info": {
   "codemirror_mode": {
    "name": "ipython",
    "version": 3
   },
   "file_extension": ".py",
   "mimetype": "text/x-python",
   "name": "python",
   "nbconvert_exporter": "python",
   "pygments_lexer": "ipython3",
   "version": "3.6.8"
  }
 },
 "nbformat": 4,
 "nbformat_minor": 2
}
