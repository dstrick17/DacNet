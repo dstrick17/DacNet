{
 "cells": [
  {
   "cell_type": "markdown",
   "metadata": {},
   "source": [
    "# NIH Dataset EDA"
   ]
  },
  {
   "cell_type": "code",
   "execution_count": null,
   "metadata": {},
   "outputs": [],
   "source": [
    "# pip install -r requirements.txt"
   ]
  },
  {
   "cell_type": "code",
   "execution_count": 1,
   "metadata": {},
   "outputs": [],
   "source": [
    "import os\n",
    "import pandas as pd\n",
    "import numpy as np\n",
    "import matplotlib\n",
    "matplotlib.use('Agg')  # For SCC compatibility (no display)\n",
    "import matplotlib.pyplot as plt\n",
    "import seaborn as sns\n",
    "\n",
    "# Deep Learning Libraries\n",
    "import torch\n",
    "import torch.nn as nn\n",
    "import torch.optim as optim\n",
    "from torch.utils.data import DataLoader, Dataset\n",
    "from torchvision import models, transforms\n",
    "import torchvision.datasets as datasets\n",
    "\n",
    "# Evaluation Metrics\n",
    "from sklearn.metrics import f1_score, accuracy_score, precision_score, recall_score, roc_auc_score\n",
    "\n",
    "# For reproducibility\n",
    "import random\n"
   ]
  },
  {
   "cell_type": "code",
   "execution_count": null,
   "metadata": {},
   "outputs": [],
   "source": [
    "# Set the path where dataset CSV files are stored on the cluster\n",
    "data_path = \"/projectnb/dl4ds/projects/dca_project/nih_data\"\n",
    "\n",
    "pd.set_option('display.max_columns', None)\n",
    "pd.set_option('display.width', 1000)\n",
    "\n",
    "# Load the CSV files\n",
    "bbox_df = pd.read_csv(os.path.join(data_path, \"BBox_List_2017.csv\"))\n",
    "data_entry_df = pd.read_csv(os.path.join(data_path, \"Data_Entry_2017.csv\"))\n",
    "\n",
    "\n",
    "\n",
    "# Display basic info\n",
    "print(\"Bounding Box Data:--------------------------------------------------------------\")\n",
    "print(bbox_df.head())\n",
    "print(\"\\nImage Metadata:---------------------------------------------------------------\")\n",
    "print(data_entry_df.head())\n",
    "\n"
   ]
  },
  {
   "cell_type": "code",
   "execution_count": null,
   "metadata": {},
   "outputs": [],
   "source": [
    "from PIL import Image\n",
    "from IPython.display import display  # Import display function\n",
    "\n",
    "# Set image path\n",
    "images_path = os.path.join(data_path, \"images_001/images\")\n",
    "\n",
    "# Get first 5 images\n",
    "image_filenames = os.listdir(images_path)[:1]\n",
    "print(\"Images found:\", image_filenames) \n",
    "\n",
    "# Display images directly in Jupyter Notebook\n",
    "for img_filename in image_filenames:\n",
    "    img_path = os.path.join(images_path, img_filename)\n",
    "    img = Image.open(img_path)  \n",
    "    display(img) \n"
   ]
  },
  {
   "cell_type": "markdown",
   "metadata": {},
   "source": [
    "# Code for similar project: https://github.com/thibaultwillmann/CheXNet-Pytorch/blob/master/CheXnet.ipynb"
   ]
  },
  {
   "cell_type": "markdown",
   "metadata": {},
   "source": []
  }
 ],
 "metadata": {
  "kernelspec": {
   "display_name": "venv",
   "language": "python",
   "name": "python3"
  },
  "language_info": {
   "codemirror_mode": {
    "name": "ipython",
    "version": 3
   },
   "file_extension": ".py",
   "mimetype": "text/x-python",
   "name": "python",
   "nbconvert_exporter": "python",
   "pygments_lexer": "ipython3",
   "version": "3.6.8"
  }
 },
 "nbformat": 4,
 "nbformat_minor": 2
}
